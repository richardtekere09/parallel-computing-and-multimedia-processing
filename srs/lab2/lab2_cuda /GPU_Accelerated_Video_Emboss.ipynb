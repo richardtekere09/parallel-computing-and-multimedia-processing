{
  "cells": [
    {
      "cell_type": "markdown",
      "metadata": {
        "id": "eSiK_vYkuKKl"
      },
      "source": [
        " Setup: Install Dependencies and Import Libraries\n",
        "  ( Установка зависимостей и импорт библиотек)"
      ]
    },
    {
      "cell_type": "code",
      "execution_count": 3,
      "metadata": {
        "colab": {
          "base_uri": "https://localhost:8080/"
        },
        "id": "I369HRio3kcX",
        "outputId": "755a7345-71b2-4b80-afe0-dfbb081752ff"
      },
      "outputs": [
        {
          "output_type": "stream",
          "name": "stdout",
          "text": [
            "Requirement already satisfied: cupy-cuda12x in /usr/local/lib/python3.11/dist-packages (13.3.0)\n",
            "Requirement already satisfied: opencv-python in /usr/local/lib/python3.11/dist-packages (4.11.0.86)\n",
            "Requirement already satisfied: matplotlib in /usr/local/lib/python3.11/dist-packages (3.10.0)\n",
            "Requirement already satisfied: numpy<2.3,>=1.22 in /usr/local/lib/python3.11/dist-packages (from cupy-cuda12x) (2.0.2)\n",
            "Requirement already satisfied: fastrlock>=0.5 in /usr/local/lib/python3.11/dist-packages (from cupy-cuda12x) (0.8.3)\n",
            "Requirement already satisfied: contourpy>=1.0.1 in /usr/local/lib/python3.11/dist-packages (from matplotlib) (1.3.2)\n",
            "Requirement already satisfied: cycler>=0.10 in /usr/local/lib/python3.11/dist-packages (from matplotlib) (0.12.1)\n",
            "Requirement already satisfied: fonttools>=4.22.0 in /usr/local/lib/python3.11/dist-packages (from matplotlib) (4.58.0)\n",
            "Requirement already satisfied: kiwisolver>=1.3.1 in /usr/local/lib/python3.11/dist-packages (from matplotlib) (1.4.8)\n",
            "Requirement already satisfied: packaging>=20.0 in /usr/local/lib/python3.11/dist-packages (from matplotlib) (24.2)\n",
            "Requirement already satisfied: pillow>=8 in /usr/local/lib/python3.11/dist-packages (from matplotlib) (11.2.1)\n",
            "Requirement already satisfied: pyparsing>=2.3.1 in /usr/local/lib/python3.11/dist-packages (from matplotlib) (3.2.3)\n",
            "Requirement already satisfied: python-dateutil>=2.7 in /usr/local/lib/python3.11/dist-packages (from matplotlib) (2.9.0.post0)\n",
            "Requirement already satisfied: six>=1.5 in /usr/local/lib/python3.11/dist-packages (from python-dateutil>=2.7->matplotlib) (1.17.0)\n",
            "13.3.0\n",
            "CUDA runtime version: 12060\n",
            "CUDA driver version: 12040\n",
            "nvcc: NVIDIA (R) Cuda compiler driver\n",
            "Copyright (c) 2005-2024 NVIDIA Corporation\n",
            "Built on Thu_Jun__6_02:18:23_PDT_2024\n",
            "Cuda compilation tools, release 12.5, V12.5.82\n",
            "Build cuda_12.5.r12.5/compiler.34385749_0\n"
          ]
        }
      ],
      "source": [
        "!pip install cupy-cuda12x opencv-python matplotlib\n",
        "\n",
        "import time\n",
        "import cupy as cp\n",
        "import cv2\n",
        "import numpy as np\n",
        "import matplotlib.pyplot as plt\n",
        "from google.colab import drive\n",
        "\n",
        "print(cp.__version__)\n",
        "print(f\"CUDA runtime version: {cp.cuda.runtime.runtimeGetVersion()}\")\n",
        "print(f\"CUDA driver version: {cp.cuda.runtime.driverGetVersion()}\")\n",
        "!nvcc --version\n"
      ]
    },
    {
      "cell_type": "markdown",
      "metadata": {
        "id": "aK0MfpXjuk0U"
      },
      "source": [
        " Upload Your Video to Colab"
      ]
    },
    {
      "cell_type": "code",
      "execution_count": 6,
      "metadata": {
        "id": "6jNM-1NmupeV"
      },
      "outputs": [],
      "source": [
        "#!apt-get update\n",
        "#!apt-get install -y ffmpeg\n",
        "#!ffmpeg -i /content/drive/MyDrive/lab2.mov /content/drive/MyDrive/converted_file.mp4\n",
        "# Upload your input video file\n",
        "input_video_path = '/content/drive/MyDrive/converted_file.mp4'"
      ]
    },
    {
      "cell_type": "code",
      "execution_count": 7,
      "metadata": {
        "colab": {
          "base_uri": "https://localhost:8080/"
        },
        "id": "Hth6_VZPRJg8",
        "outputId": "be6d4b4b-e895-49b1-aaae-36a949903a53"
      },
      "outputs": [
        {
          "output_type": "stream",
          "name": "stdout",
          "text": [
            "Video found: /content/drive/MyDrive/converted_file.mp4\n"
          ]
        }
      ],
      "source": [
        "print(f\"Video found: {input_video_path}\")"
      ]
    },
    {
      "cell_type": "markdown",
      "metadata": {
        "id": "VWZh0C82yF_n"
      },
      "source": [
        " CUDA Implementation (2D Blocks + Threads)"
      ]
    },
    {
      "cell_type": "code",
      "source": [
        "!nvidia-smi"
      ],
      "metadata": {
        "colab": {
          "base_uri": "https://localhost:8080/"
        },
        "id": "4YsWDNT2Xd3j",
        "outputId": "0cc5f3e8-4ba6-4486-9045-ce38a1736adf"
      },
      "execution_count": 8,
      "outputs": [
        {
          "output_type": "stream",
          "name": "stdout",
          "text": [
            "Tue May 27 02:05:45 2025       \n",
            "+-----------------------------------------------------------------------------------------+\n",
            "| NVIDIA-SMI 550.54.15              Driver Version: 550.54.15      CUDA Version: 12.4     |\n",
            "|-----------------------------------------+------------------------+----------------------+\n",
            "| GPU  Name                 Persistence-M | Bus-Id          Disp.A | Volatile Uncorr. ECC |\n",
            "| Fan  Temp   Perf          Pwr:Usage/Cap |           Memory-Usage | GPU-Util  Compute M. |\n",
            "|                                         |                        |               MIG M. |\n",
            "|=========================================+========================+======================|\n",
            "|   0  Tesla T4                       Off |   00000000:00:04.0 Off |                    0 |\n",
            "| N/A   42C    P8              9W /   70W |       2MiB /  15360MiB |      0%      Default |\n",
            "|                                         |                        |                  N/A |\n",
            "+-----------------------------------------+------------------------+----------------------+\n",
            "                                                                                         \n",
            "+-----------------------------------------------------------------------------------------+\n",
            "| Processes:                                                                              |\n",
            "|  GPU   GI   CI        PID   Type   Process name                              GPU Memory |\n",
            "|        ID   ID                                                               Usage      |\n",
            "|=========================================================================================|\n",
            "|  No running processes found                                                             |\n",
            "+-----------------------------------------------------------------------------------------+\n"
          ]
        }
      ]
    },
    {
      "cell_type": "code",
      "execution_count": 9,
      "metadata": {
        "colab": {
          "base_uri": "https://localhost:8080/",
          "height": 633
        },
        "id": "gKIMZHnyx6a0",
        "outputId": "f46b7714-326a-4f57-c84c-6e7604c7756d"
      },
      "outputs": [
        {
          "output_type": "stream",
          "name": "stdout",
          "text": [
            "Drive already mounted at /content/drive; to attempt to forcibly remount, call drive.mount(\"/content/drive\", force_remount=True).\n",
            "Using CUDA GPU: b'Tesla T4'\n",
            "Running CUDA Emboss + Downscale benchmark (GPU-only)...\n",
            "Run 1: 116702.26 ms\n",
            "Run 2: 109679.71 ms\n",
            "Run 3: 114648.12 ms\n",
            "Average Time: 113676.70 ms\n"
          ]
        },
        {
          "output_type": "display_data",
          "data": {
            "text/plain": [
              "<Figure size 800x600 with 1 Axes>"
            ],
            "image/png": "[encoded data removed]"
          },
          "metadata": {}
        },
        {
          "output_type": "stream",
          "name": "stdout",
          "text": [
            "Visualization saved at: /content/output/lab2_cuda/execution_times.png\n"
          ]
        },
        {
          "output_type": "display_data",
          "data": {
            "text/plain": [
              "<IPython.core.display.Javascript object>"
            ],
            "application/javascript": [
              "\n",
              "    async function download(id, filename, size) {\n",
              "      if (!google.colab.kernel.accessAllowed) {\n",
              "        return;\n",
              "      }\n",
              "      const div = document.createElement('div');\n",
              "      const label = document.createElement('label');\n",
              "      label.textContent = `Downloading \"${filename}\": `;\n",
              "      div.appendChild(label);\n",
              "      const progress = document.createElement('progress');\n",
              "      progress.max = size;\n",
              "      div.appendChild(progress);\n",
              "      document.body.appendChild(div);\n",
              "\n",
              "      const buffers = [];\n",
              "      let downloaded = 0;\n",
              "\n",
              "      const channel = await google.colab.kernel.comms.open(id);\n",
              "      // Send a message to notify the kernel that we're ready.\n",
              "      channel.send({})\n",
              "\n",
              "      for await (const message of channel.messages) {\n",
              "        // Send a message to notify the kernel that we're ready.\n",
              "        channel.send({})\n",
              "        if (message.buffers) {\n",
              "          for (const buffer of message.buffers) {\n",
              "            buffers.push(buffer);\n",
              "            downloaded += buffer.byteLength;\n",
              "            progress.value = downloaded;\n",
              "          }\n",
              "        }\n",
              "      }\n",
              "      const blob = new Blob(buffers, {type: 'application/binary'});\n",
              "      const a = document.createElement('a');\n",
              "      a.href = window.URL.createObjectURL(blob);\n",
              "      a.download = filename;\n",
              "      div.appendChild(a);\n",
              "      a.click();\n",
              "      div.remove();\n",
              "    }\n",
              "  "
            ]
          },
          "metadata": {}
        },
        {
          "output_type": "display_data",
          "data": {
            "text/plain": [
              "<IPython.core.display.Javascript object>"
            ],
            "application/javascript": [
              "download(\"download_0155cd3a-02cf-460f-a98c-d2d319d948f8\", \"output_run1.mp4\", 41242499)"
            ]
          },
          "metadata": {}
        },
        {
          "output_type": "display_data",
          "data": {
            "text/plain": [
              "<IPython.core.display.Javascript object>"
            ],
            "application/javascript": [
              "\n",
              "    async function download(id, filename, size) {\n",
              "      if (!google.colab.kernel.accessAllowed) {\n",
              "        return;\n",
              "      }\n",
              "      const div = document.createElement('div');\n",
              "      const label = document.createElement('label');\n",
              "      label.textContent = `Downloading \"${filename}\": `;\n",
              "      div.appendChild(label);\n",
              "      const progress = document.createElement('progress');\n",
              "      progress.max = size;\n",
              "      div.appendChild(progress);\n",
              "      document.body.appendChild(div);\n",
              "\n",
              "      const buffers = [];\n",
              "      let downloaded = 0;\n",
              "\n",
              "      const channel = await google.colab.kernel.comms.open(id);\n",
              "      // Send a message to notify the kernel that we're ready.\n",
              "      channel.send({})\n",
              "\n",
              "      for await (const message of channel.messages) {\n",
              "        // Send a message to notify the kernel that we're ready.\n",
              "        channel.send({})\n",
              "        if (message.buffers) {\n",
              "          for (const buffer of message.buffers) {\n",
              "            buffers.push(buffer);\n",
              "            downloaded += buffer.byteLength;\n",
              "            progress.value = downloaded;\n",
              "          }\n",
              "        }\n",
              "      }\n",
              "      const blob = new Blob(buffers, {type: 'application/binary'});\n",
              "      const a = document.createElement('a');\n",
              "      a.href = window.URL.createObjectURL(blob);\n",
              "      a.download = filename;\n",
              "      div.appendChild(a);\n",
              "      a.click();\n",
              "      div.remove();\n",
              "    }\n",
              "  "
            ]
          },
          "metadata": {}
        },
        {
          "output_type": "display_data",
          "data": {
            "text/plain": [
              "<IPython.core.display.Javascript object>"
            ],
            "application/javascript": [
              "download(\"download_571ae5aa-d07c-4869-b2a5-3e99d1db7ccf\", \"output_run2.mp4\", 41242499)"
            ]
          },
          "metadata": {}
        },
        {
          "output_type": "display_data",
          "data": {
            "text/plain": [
              "<IPython.core.display.Javascript object>"
            ],
            "application/javascript": [
              "\n",
              "    async function download(id, filename, size) {\n",
              "      if (!google.colab.kernel.accessAllowed) {\n",
              "        return;\n",
              "      }\n",
              "      const div = document.createElement('div');\n",
              "      const label = document.createElement('label');\n",
              "      label.textContent = `Downloading \"${filename}\": `;\n",
              "      div.appendChild(label);\n",
              "      const progress = document.createElement('progress');\n",
              "      progress.max = size;\n",
              "      div.appendChild(progress);\n",
              "      document.body.appendChild(div);\n",
              "\n",
              "      const buffers = [];\n",
              "      let downloaded = 0;\n",
              "\n",
              "      const channel = await google.colab.kernel.comms.open(id);\n",
              "      // Send a message to notify the kernel that we're ready.\n",
              "      channel.send({})\n",
              "\n",
              "      for await (const message of channel.messages) {\n",
              "        // Send a message to notify the kernel that we're ready.\n",
              "        channel.send({})\n",
              "        if (message.buffers) {\n",
              "          for (const buffer of message.buffers) {\n",
              "            buffers.push(buffer);\n",
              "            downloaded += buffer.byteLength;\n",
              "            progress.value = downloaded;\n",
              "          }\n",
              "        }\n",
              "      }\n",
              "      const blob = new Blob(buffers, {type: 'application/binary'});\n",
              "      const a = document.createElement('a');\n",
              "      a.href = window.URL.createObjectURL(blob);\n",
              "      a.download = filename;\n",
              "      div.appendChild(a);\n",
              "      a.click();\n",
              "      div.remove();\n",
              "    }\n",
              "  "
            ]
          },
          "metadata": {}
        },
        {
          "output_type": "display_data",
          "data": {
            "text/plain": [
              "<IPython.core.display.Javascript object>"
            ],
            "application/javascript": [
              "download(\"download_a268ca97-f8d2-46a1-871a-ee9d3646a68e\", \"execution_times.png\", 23758)"
            ]
          },
          "metadata": {}
        },
        {
          "output_type": "display_data",
          "data": {
            "text/plain": [
              "<IPython.core.display.Javascript object>"
            ],
            "application/javascript": [
              "\n",
              "    async function download(id, filename, size) {\n",
              "      if (!google.colab.kernel.accessAllowed) {\n",
              "        return;\n",
              "      }\n",
              "      const div = document.createElement('div');\n",
              "      const label = document.createElement('label');\n",
              "      label.textContent = `Downloading \"${filename}\": `;\n",
              "      div.appendChild(label);\n",
              "      const progress = document.createElement('progress');\n",
              "      progress.max = size;\n",
              "      div.appendChild(progress);\n",
              "      document.body.appendChild(div);\n",
              "\n",
              "      const buffers = [];\n",
              "      let downloaded = 0;\n",
              "\n",
              "      const channel = await google.colab.kernel.comms.open(id);\n",
              "      // Send a message to notify the kernel that we're ready.\n",
              "      channel.send({})\n",
              "\n",
              "      for await (const message of channel.messages) {\n",
              "        // Send a message to notify the kernel that we're ready.\n",
              "        channel.send({})\n",
              "        if (message.buffers) {\n",
              "          for (const buffer of message.buffers) {\n",
              "            buffers.push(buffer);\n",
              "            downloaded += buffer.byteLength;\n",
              "            progress.value = downloaded;\n",
              "          }\n",
              "        }\n",
              "      }\n",
              "      const blob = new Blob(buffers, {type: 'application/binary'});\n",
              "      const a = document.createElement('a');\n",
              "      a.href = window.URL.createObjectURL(blob);\n",
              "      a.download = filename;\n",
              "      div.appendChild(a);\n",
              "      a.click();\n",
              "      div.remove();\n",
              "    }\n",
              "  "
            ]
          },
          "metadata": {}
        },
        {
          "output_type": "display_data",
          "data": {
            "text/plain": [
              "<IPython.core.display.Javascript object>"
            ],
            "application/javascript": [
              "download(\"download_87e1658e-91e3-45ff-a7a8-fb1cde10cb94\", \"output_run3.mp4\", 41242499)"
            ]
          },
          "metadata": {}
        }
      ],
      "source": [
        "\n",
        "import os\n",
        "\n",
        "\n",
        "# CUDA Kernel\n",
        "kernel_code = r'''\n",
        "extern \"C\" __global__\n",
        "void emboss_downsample_2d(const float* in_img, float* out_img, int W, int H) {\n",
        "    int out_x = blockIdx.x * blockDim.x + threadIdx.x;\n",
        "    int out_y = blockIdx.y * blockDim.y + threadIdx.y;\n",
        "    if (out_x >= W/2 || out_y >= H/2) return;\n",
        "    const float k[3][3] = {{-2,-1,0},{-1,1,1},{0,1,2}};\n",
        "    int ix = 2*out_x, iy = 2*out_y;\n",
        "    for (int c=0; c<3; c++) {\n",
        "        float sum=0;\n",
        "        for(int dy=-1; dy<=1; dy++)\n",
        "            for(int dx=-1; dx<=1; dx++) {\n",
        "                int sx = min(max(ix+dx,0),W-1);\n",
        "                int sy = min(max(iy+dy,0),H-1);\n",
        "                sum += in_img[(sy*W+sx)*3+c] * k[dy+1][dx+1];\n",
        "            }\n",
        "        out_img[(out_y*(W/2)+out_x)*3+c] = sum;\n",
        "    }\n",
        "}\n",
        "'''\n",
        "\n",
        "def run_cuda(input_video_path , output_path, kernel):\n",
        "    cap = cv2.VideoCapture(input_video_path)\n",
        "    if not cap.isOpened():\n",
        "        raise IOError(f\"Cannot open video file: {input_video_path }\")\n",
        "    fps = cap.get(cv2.CAP_PROP_FPS)\n",
        "    width = int(cap.get(cv2.CAP_PROP_FRAME_WIDTH))\n",
        "    height = int(cap.get(cv2.CAP_PROP_FRAME_HEIGHT))\n",
        "    fourcc = cv2.VideoWriter_fourcc(*'mp4v')\n",
        "    out_writer = cv2.VideoWriter(output_path, fourcc, fps, (width//2, height//2))\n",
        "\n",
        "    start = time.time()\n",
        "    while True:\n",
        "        ret, frame = cap.read()\n",
        "        if not ret:\n",
        "            break\n",
        "        img = frame.astype(np.float32)\n",
        "        d_img = cp.array(img)\n",
        "        d_out = cp.zeros((height//2, width//2, 3), dtype=cp.float32)\n",
        "        threads = (16, 16)\n",
        "        blocks = ((width//2+threads[0]-1)//threads[0], (height//2+threads[1]-1)//threads[1])\n",
        "        kernel(blocks, threads, (d_img, d_out, width, height))\n",
        "        out_frame = cp.asnumpy(d_out).clip(0,255).astype(np.uint8)\n",
        "        out_writer.write(out_frame)\n",
        "    cap.release()\n",
        "    out_writer.release()\n",
        "    return (time.time() - start) * 1000\n",
        "\n",
        "# Set output directory in Colab\n",
        "from google.colab import drive, files\n",
        "drive.mount('/content/drive')\n",
        "\n",
        "output_dir = '/content/output/lab2_cuda'\n",
        "os.makedirs(output_dir, exist_ok=True)\n",
        "\n",
        "# Check CUDA GPU\n",
        "if cp.cuda.runtime.getDeviceCount() == 0:\n",
        "    print(\"No CUDA-compatible GPU found! This lab requires CUDA. Exiting.\")\n",
        "else:\n",
        "    print(f\"Using CUDA GPU: {cp.cuda.runtime.getDeviceProperties(0)['name']}\")\n",
        "\n",
        "\n",
        "    kernel = cp.RawKernel(kernel_code, 'emboss_downsample_2d')\n",
        "\n",
        "    times = []\n",
        "    print(\"Running CUDA Emboss + Downscale benchmark (GPU-only)...\")\n",
        "    for i in range(3):\n",
        "        output_path = os.path.join(output_dir, f'output_run{i+1}.mp4')\n",
        "        t = run_cuda(input_video_path, output_path, kernel)\n",
        "        times.append(t)\n",
        "        print(f\"Run {i+1}: {t:.2f} ms\")\n",
        "\n",
        "    avg_time = sum(times)/3\n",
        "    print(f\"Average Time: {avg_time:.2f} ms\")\n",
        "\n",
        "    # Save execution time visualization\n",
        "    plt.figure(figsize=(8,6))\n",
        "    x_labels = ['Run 1', 'Run 2', 'Run 3', 'Average']\n",
        "    y_values = times + [avg_time]\n",
        "    plt.bar(x_labels, y_values, color='skyblue')\n",
        "    plt.ylabel('Execution Time (ms)')\n",
        "    plt.title('CUDA Emboss + Downscale Benchmark')\n",
        "    plt.grid(axis='y')\n",
        "    plt_path = os.path.join(output_dir, 'execution_times.png')\n",
        "    plt.savefig(plt_path)\n",
        "    plt.show()\n",
        "    print(f\"Visualization saved at: {plt_path}\")\n",
        "\n",
        "    # Download output files\n",
        "   # for file in os.listdir(output_dir):\n",
        "        #files.download(os.path.join(output_dir, file))\n"
      ]
    }
  ],
  "metadata": {
    "colab": {
      "gpuType": "T4",
      "provenance": []
    },
    "kernelspec": {
      "display_name": "Python 3",
      "name": "python3"
    },
    "language_info": {
      "name": "python"
    },
    "accelerator": "GPU"
  },
  "nbformat": 4,
  "nbformat_minor": 0
}